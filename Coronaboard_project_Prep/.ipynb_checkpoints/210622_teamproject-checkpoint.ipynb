{
 "cells": [
  {
   "cell_type": "code",
   "execution_count": 1,
   "metadata": {},
   "outputs": [],
   "source": [
    "from IPython.display import display, Image\n",
    "import os, warnings\n",
    "import re\n",
    "warnings.filterwarnings(action='ignore')"
   ]
  },
  {
   "cell_type": "code",
   "execution_count": 2,
   "metadata": {},
   "outputs": [],
   "source": [
    "from selenium import webdriver\n",
    "from bs4 import BeautifulSoup"
   ]
  },
  {
   "cell_type": "code",
   "execution_count": 4,
   "metadata": {},
   "outputs": [],
   "source": [
    "driver = webdriver.Chrome('chromedriver_90.exe')\n",
    "## https://www.amazon.com/\n",
    "url = 'https://coronaboard.kr/'\n",
    "driver.get(url)\n",
    "import time\n",
    "time.sleep(3) # 홈페이지 로딩 시간 3초"
   ]
  },
  {
   "cell_type": "code",
   "execution_count": 5,
   "metadata": {},
   "outputs": [],
   "source": [
    "sel_btn = driver.find_element_by_xpath('//*[@id=\"global-slide\"]/div/div[2]/div/div/button')\n",
    "sel_btn.click()"
   ]
  },
  {
   "cell_type": "code",
   "execution_count": 6,
   "metadata": {},
   "outputs": [],
   "source": [
    "#치료증 클릭\n",
    "sel_btn1 = driver.find_element_by_xpath('//*[@id=\"bs-select-1\"]/ul/li[1]')\n",
    "sel_btn1.click()"
   ]
  },
  {
   "cell_type": "code",
   "execution_count": 7,
   "metadata": {},
   "outputs": [],
   "source": [
    "#인구수 클릭\n",
    "sel_btn1 = driver.find_element_by_xpath('//*[@id=\"bs-select-1\"]/ul/li[6]')\n",
    "sel_btn1.click()"
   ]
  },
  {
   "cell_type": "code",
   "execution_count": 8,
   "metadata": {},
   "outputs": [],
   "source": [
    "from selenium.webdriver import ActionChains #이동하는\n",
    "some_tag = driver.find_element_by_id('show-more') \n",
    "ActionChains(driver).move_to_element(some_tag).perform()\n",
    "some_tag.click()"
   ]
  },
  {
   "cell_type": "code",
   "execution_count": null,
   "metadata": {},
   "outputs": [],
   "source": [
    "some_tag = driver.find_element_by_id('show-more')\n",
    "ActionChains(driver).move_to_element(some_tag).perform()\n",
    "some_tag.click()"
   ]
  },
  {
   "cell_type": "code",
   "execution_count": null,
   "metadata": {},
   "outputs": [],
   "source": [
    "sel_country = driver.find_elements_by_xpath('//*[@id=\"country-table\"]/div/div/table/tbody/tr/td[2]')\n",
    "len(sel_country)"
   ]
  },
  {
   "cell_type": "code",
   "execution_count": null,
   "metadata": {},
   "outputs": [],
   "source": [
    "for one in sel_country:\n",
    "    print(one.text)"
   ]
  },
  {
   "cell_type": "code",
   "execution_count": null,
   "metadata": {},
   "outputs": [],
   "source": [
    "all_data = []\n",
    "for i in range(2, 11):\n",
    "    tmp = '//*[@id=\"country-table\"]/div/div/table/tbody/tr/td[{}]'.format(i)\n",
    "    # print(tmp)\n",
    "    sel_ele = driver.find_elements_by_xpath(tmp)\n",
    "    \n",
    "    column_data = []\n",
    "    for one in sel_ele:\n",
    "        # print(one.text)\n",
    "        column_data.append(one.text)\n",
    "    print( len(sel_ele) )\n",
    "    all_data.append(column_data)\n",
    "    print(column_data)\n",
    "    print()\n",
    "all_data"
   ]
  },
  {
   "cell_type": "code",
   "execution_count": null,
   "metadata": {
    "scrolled": true
   },
   "outputs": [],
   "source": [
    "import pandas as pd\n",
    "for idx, one in enumerate(all_data[0]):\n",
    "#     print(one[:-2])\n",
    "    all_data[0][idx] = one[:-2]\n",
    "    \n",
    "dict_dat = { \"국가\":all_data[0],\n",
    "\"확진자\":all_data[1],\n",
    "\"치료중\":all_data[2],\n",
    "\"사망자\":all_data[3],\n",
    "\"완치\":all_data[4],\n",
    "\"치명(%)\":all_data[5],\n",
    "\"완치(%)\":all_data[6],\n",
    "\"발생률\":all_data[7],\n",
    "\"인구수\":all_data[8]}\n",
    "dat = pd.DataFrame(dict_dat)\n",
    "dat"
   ]
  },
  {
   "cell_type": "code",
   "execution_count": null,
   "metadata": {},
   "outputs": [],
   "source": [
    "dat.to_csv(\"today_corona_teamproject1.csv\", index=False ,encoding='utf-8-sig')\n",
    "os.listdir( os.getcwd() )"
   ]
  },
  {
   "cell_type": "code",
   "execution_count": null,
   "metadata": {},
   "outputs": [],
   "source": [
    "print(type(dat.loc[1:6]))\n",
    "dat.loc[1:6]"
   ]
  },
  {
   "cell_type": "code",
   "execution_count": null,
   "metadata": {},
   "outputs": [],
   "source": []
  }
 ],
 "metadata": {
  "kernelspec": {
   "display_name": "Python 3",
   "language": "python",
   "name": "python3"
  },
  "language_info": {
   "codemirror_mode": {
    "name": "ipython",
    "version": 3
   },
   "file_extension": ".py",
   "mimetype": "text/x-python",
   "name": "python",
   "nbconvert_exporter": "python",
   "pygments_lexer": "ipython3",
   "version": "3.8.5"
  }
 },
 "nbformat": 4,
 "nbformat_minor": 4
}
