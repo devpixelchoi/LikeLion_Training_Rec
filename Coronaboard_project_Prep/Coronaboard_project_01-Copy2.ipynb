{
 "cells": [
  {
   "cell_type": "code",
   "execution_count": 1,
   "metadata": {},
   "outputs": [],
   "source": [
    "from IPython.display import display, Image\n",
    "import os, warnings\n",
    "import re\n",
    "from selenium import webdriver\n",
    "from bs4 import BeautifulSoup\n",
    "import time\n",
    "from selenium.webdriver import ActionChains"
   ]
  },
  {
   "cell_type": "code",
   "execution_count": 2,
   "metadata": {},
   "outputs": [],
   "source": [
    "driver = webdriver.Chrome('chromedriver_90')\n",
    "## https://www.amazon.com/\n",
    "url = 'https://coronaboard.kr/'\n",
    "driver.get(url)\n",
    "# time.sleep(3)  # 홈페이지 로딩 시간 3초\n",
    "warnings.filterwarnings(action='ignore')"
   ]
  },
  {
   "cell_type": "code",
   "execution_count": 4,
   "metadata": {},
   "outputs": [],
   "source": [
    "from selenium.webdriver import ActionChains\n",
    "some_tag = driver.find_element_by_id('show-more')\n",
    "ActionChains(driver).move_to_element(some_tag).perform()\n",
    "some_tag.click()"
   ]
  },
  {
   "cell_type": "code",
   "execution_count": 5,
   "metadata": {},
   "outputs": [],
   "source": [
    "# 화면에 combo box 가 위치할 때만 실행이 가능 - 수정필요\n",
    "\n",
    "com_box = driver.find_element_by_xpath('//*[@id=\"global-slide\"]/div/div[2]/div/div/button')\n",
    "com_box.click()\n",
    "# //*[@id=\"top\"]\n",
    "# //*[@id=\"global-slide\"]/div/div[2]/div/div/button/div/div/div\n",
    "#//*[@id=\"global-slide\"]/div/div[2]/div/div/button"
   ]
  },
  {
   "cell_type": "code",
   "execution_count": 6,
   "metadata": {},
   "outputs": [],
   "source": [
    "sel_pop = driver.find_element_by_xpath('//*[@id=\"bs-select-1-5\"]')\n",
    "sel_pop.click()"
   ]
  },
  {
   "cell_type": "code",
   "execution_count": 7,
   "metadata": {},
   "outputs": [],
   "source": [
    "sel_cure = driver.find_element_by_xpath('//*[@id=\"bs-select-1-0\"]')\n",
    "sel_cure.click()"
   ]
  },
  {
   "cell_type": "code",
   "execution_count": 9,
   "metadata": {},
   "outputs": [],
   "source": [
    "# 두번 눌러야 내림차순 - 수정필요\n",
    "pop_sort = driver.find_element_by_xpath('//*[@id=\"country-table\"]/div/div/table/thead/tr/th[10]')\n",
    "pop_sort.click()"
   ]
  },
  {
   "cell_type": "code",
   "execution_count": 17,
   "metadata": {},
   "outputs": [
    {
     "name": "stdout",
     "output_type": "stream",
     "text": [
      "0\n"
     ]
    }
   ],
   "source": [
    "all_data = []\n",
    "\n",
    "for x in range(1,91):\n",
    "    temp_c = '//*[@id=\"country-table\"]/div/div/table/tbody/tr[{}]'.format(x)\n",
    "    country_list = driver.find_elements_by_xpath(temp_c)\n",
    "#     print(len(country_list))\n",
    "    \n",
    "    for y in range(2, 11):\n",
    "        temp_d = '//*[@id=\"country-table\"]/div/div/table/tbody/tr/td[{}]'.format(y)\n",
    "        data_list = driver.find_elements_by_xpath(temp_d)\n",
    "        \n",
    "        total_data = []\n",
    "        for one in total_data:\n",
    "            total_data.append(one.text)\n",
    "#             print(total_data)\n",
    "            all_data.append(total_data)\n",
    "    \n",
    "print(len(all_data))\n",
    "\n",
    "\n",
    "\n",
    "\n",
    "#     for y in range(2, 11):\n",
    "#         temp = '//*[@id=\"country-table\"]/div/div/table/tbody/tr[{}]/td[{}]'.format(x, y)\n",
    "# #         print(temp)        \n",
    "#         each_data = driver.find_elements_by_xpath(temp)\n",
    "# #         print(each_data)\n",
    "#         column_data = []\n",
    "#         for one in each_data:\n",
    "#             column_data.append(one.text)\n",
    "# #             print(column_data)\n",
    "#             all_data.append(column_data)\n",
    "            \n",
    "# print(all_data)\n",
    "        \n",
    "# sel_ele = driver.find_elements_by_xpath(tmp)\n",
    "#     column_data = []\n",
    "#     for one in sel_ele:\n",
    "#         # print(one.text)\n",
    "#         column_data.append(one.text)\n",
    "#     print( len(sel_ele) )\n",
    "#     all_data.append(column_data)\n",
    "#     print(column_data)\n",
    "#     print()\n",
    "# all_data"
   ]
  },
  {
   "cell_type": "code",
   "execution_count": 12,
   "metadata": {},
   "outputs": [
    {
     "ename": "IndexError",
     "evalue": "list index out of range",
     "output_type": "error",
     "traceback": [
      "\u001b[1;31m---------------------------------------------------------------------------\u001b[0m",
      "\u001b[1;31mIndexError\u001b[0m                                Traceback (most recent call last)",
      "\u001b[1;32m<ipython-input-12-a427426b0c1c>\u001b[0m in \u001b[0;36m<module>\u001b[1;34m\u001b[0m\n\u001b[0;32m      1\u001b[0m \u001b[1;32mfor\u001b[0m \u001b[0mi\u001b[0m \u001b[1;32min\u001b[0m \u001b[0mrange\u001b[0m\u001b[1;33m(\u001b[0m\u001b[1;36m9\u001b[0m\u001b[1;33m)\u001b[0m\u001b[1;33m:\u001b[0m\u001b[1;33m\u001b[0m\u001b[1;33m\u001b[0m\u001b[0m\n\u001b[1;32m----> 2\u001b[1;33m     \u001b[0mprint\u001b[0m\u001b[1;33m(\u001b[0m\u001b[0mall_data\u001b[0m\u001b[1;33m[\u001b[0m\u001b[0mi\u001b[0m\u001b[1;33m]\u001b[0m\u001b[1;33m)\u001b[0m\u001b[1;33m\u001b[0m\u001b[1;33m\u001b[0m\u001b[0m\n\u001b[0m",
      "\u001b[1;31mIndexError\u001b[0m: list index out of range"
     ]
    }
   ],
   "source": [
    "for i in range(9):\n",
    "    print(all_data[i])"
   ]
  },
  {
   "cell_type": "code",
   "execution_count": null,
   "metadata": {},
   "outputs": [],
   "source": [
    "import pandas as pd\n",
    "dict_dat = { \"국가\":all_data[0], \n",
    "             \"확진자\":all_data[1],\n",
    "             \"치료중\":all_data[2],\n",
    "             \"사망자\":all_data[3],\n",
    "             \"완치\":all_data[4],\n",
    "             \"치명(%)\":all_data[5],\n",
    "             \"완치(%)\":all_data[6],\n",
    "             \"발생률\":all_data[7],\n",
    "             \"인구수\":all_data[8]}\n",
    "dat = pd.DataFrame(dict_dat)\n",
    "dat"
   ]
  },
  {
   "cell_type": "code",
   "execution_count": null,
   "metadata": {},
   "outputs": [],
   "source": [
    "dat.to_csv(\"Coronaboard_project_01.csv\", index=False)\n",
    "dat.to_excel(\"Coronaboard_project_01.xlsx\", index=False)\n",
    "os.listdir( os.getcwd() )"
   ]
  },
  {
   "cell_type": "code",
   "execution_count": null,
   "metadata": {},
   "outputs": [],
   "source": [
    "Coronaboard_project_01"
   ]
  },
  {
   "cell_type": "code",
   "execution_count": null,
   "metadata": {},
   "outputs": [],
   "source": []
  }
 ],
 "metadata": {
  "kernelspec": {
   "display_name": "Python 3",
   "language": "python",
   "name": "python3"
  },
  "language_info": {
   "codemirror_mode": {
    "name": "ipython",
    "version": 3
   },
   "file_extension": ".py",
   "mimetype": "text/x-python",
   "name": "python",
   "nbconvert_exporter": "python",
   "pygments_lexer": "ipython3",
   "version": "3.8.5"
  }
 },
 "nbformat": 4,
 "nbformat_minor": 4
}
