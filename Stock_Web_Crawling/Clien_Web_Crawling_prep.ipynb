{
 "cells": [
  {
   "cell_type": "code",
   "execution_count": 1,
   "metadata": {},
   "outputs": [],
   "source": [
    "from urllib.request import urlopen\n",
    "from bs4 import BeautifulSoup"
   ]
  },
  {
   "cell_type": "code",
   "execution_count": 57,
   "metadata": {},
   "outputs": [
    {
     "name": "stdout",
     "output_type": "stream",
     "text": [
      "https://www.clien.net/service/board/cm_stock?&od=T31&category=0&po=0\n",
      "https://www.clien.net/service/board/cm_stock?&od=T31&category=0&po=1\n",
      "https://www.clien.net/service/board/cm_stock?&od=T31&category=0&po=2\n"
     ]
    }
   ],
   "source": [
    "# pages = []\n",
    "# for i in range(0,3):\n",
    "url = 'https://www.clien.net/service/board/cm_stock?&od=T31&category=0&po='\n",
    "\n",
    "\n",
    "for i in range(0,3):\n",
    "    b_url = url + str(i)\n",
    "    print(b_url)\n",
    "#     page = urlopen(b_url)\n",
    "#     soup = BeautifulSoup(page, 'html.parser')\n",
    "#     print(soup)\n",
    "#     type(soup)\n",
    "# soup.title"
   ]
  },
  {
   "cell_type": "code",
   "execution_count": 54,
   "metadata": {
    "scrolled": false
   },
   "outputs": [
    {
     "data": {
      "text/plain": [
       "[<span class=\"subject_fixed\" data-role=\"list-title-text\" title=\"3300찍을지 궁금하군요\">\n",
       " \t\t\t\t\t\t\t3300찍을지 궁금하군요\n",
       " \t\t\t\t\t\t</span>,\n",
       " <span class=\"subject_fixed\" data-role=\"list-title-text\" title=\"아모센스, 공모주 실패작 이네요\">\n",
       " \t\t\t\t\t\t\t아모센스, 공모주 실패작 이네요\n",
       " \t\t\t\t\t\t</span>,\n",
       " <span class=\"subject_fixed\" data-role=\"list-title-text\" title=\"(선옵) 헷지비가 많이 드네요.\">\n",
       " \t\t\t\t\t\t\t(선옵) 헷지비가 많이 드네요.\n",
       " \t\t\t\t\t\t</span>,\n",
       " <span class=\"subject_fixed\" data-role=\"list-title-text\" title=\"혹시 논문 경제주간지 뉴스 등 PDF 다운받아보시는분 계실까요?\">\n",
       " \t\t\t\t\t\t\t혹시 논문 경제주간지 뉴스 등 PDF 다운받아보시는분 계실까요?\n",
       " \t\t\t\t\t\t</span>,\n",
       " <span class=\"subject_fixed\" data-role=\"list-title-text\" title=\"젊어진 MS, '윈도 11' 힘입어 시총 2조달러 돌파\">\n",
       " \t\t\t\t\t\t\t젊어진 MS, '윈도 11' 힘입어 시총 2조달러 돌파\n",
       " \t\t\t\t\t\t</span>,\n",
       " <span class=\"subject_fixed\" data-role=\"list-title-text\" title=\"06월 25일 오늘의 주식뉴스모음\">\n",
       " \t\t\t\t\t\t\t06월 25일 오늘의 주식뉴스모음\n",
       " \t\t\t\t\t\t</span>,\n",
       " <span class=\"subject_fixed\" data-role=\"list-title-text\" title=\"'2분기 호실적 기대감' 삼성전자 시간 다시 오나\">\n",
       " \t\t\t\t\t\t\t'2분기 호실적 기대감' 삼성전자 시간 다시 오나\n",
       " \t\t\t\t\t\t</span>,\n",
       " <span class=\"subject_fixed\" data-role=\"list-title-text\" title=\"타이거 필라델피아 반도체 오늘 1만원 복귀 하겠네요\">\n",
       " \t\t\t\t\t\t\t타이거 필라델피아 반도체 오늘 1만원 복귀 하겠네요\n",
       " \t\t\t\t\t\t</span>,\n",
       " <span class=\"subject_fixed\" data-role=\"list-title-text\" title=\"2021년 6월 24일 목요일 미국 신문 비지니스 섹션 1면 헤드라인 모음\">\n",
       " \t\t\t\t\t\t\t2021년 6월 24일 목요일 미국 신문 비지니스 섹션 1면 헤드라인 모음\n",
       " \t\t\t\t\t\t</span>,\n",
       " <span class=\"subject_fixed\" data-role=\"list-title-text\" title=\"2021년 6월 24일 목요일 미국 신문 1면 헤드라인 모음\">\n",
       " \t\t\t\t\t\t\t2021년 6월 24일 목요일 미국 신문 1면 헤드라인 모음\n",
       " \t\t\t\t\t\t</span>,\n",
       " <span class=\"subject_fixed\" data-role=\"list-title-text\" title=\"뉴욕증시, 인프라 지출안 타결에 상승…S&amp;P500·나스닥 최고 마감\">\n",
       " \t\t\t\t\t\t\t뉴욕증시, 인프라 지출안 타결에 상승…S&amp;P500·나스닥 최고 마감\n",
       " \t\t\t\t\t\t</span>,\n",
       " <span class=\"subject_fixed\" data-role=\"list-title-text\" title=\"연준이 시장이다\">\n",
       " \t\t\t\t\t\t\t연준이 시장이다\n",
       " \t\t\t\t\t\t</span>,\n",
       " <span class=\"subject_fixed\" data-role=\"list-title-text\" title=\"쿠팡 적자 7년, 아마존 적자 8년\">\n",
       " \t\t\t\t\t\t\t쿠팡 적자 7년, 아마존 적자 8년\n",
       " \t\t\t\t\t\t</span>,\n",
       " <span class=\"subject_fixed\" data-role=\"list-title-text\" title=\"테슬라가 날아가네요\">\n",
       " \t\t\t\t\t\t\t테슬라가 날아가네요\n",
       " \t\t\t\t\t\t</span>,\n",
       " <span class=\"subject_fixed\" data-role=\"list-title-text\" title=\"KOSPI '코로나 최저점' 그 한달 후의 추억\">\n",
       " \t\t\t\t\t\t\tKOSPI '코로나 최저점' 그 한달 후의 추억\n",
       " \t\t\t\t\t\t</span>,\n",
       " <span class=\"subject_fixed\" data-role=\"list-title-text\" title=\"tmv 처분했네요\">\n",
       " \t\t\t\t\t\t\ttmv 처분했네요\n",
       " \t\t\t\t\t\t</span>,\n",
       " <span class=\"subject_fixed\" data-role=\"list-title-text\" title=\"매일이 전고점이긴 합니다만...\">\n",
       " \t\t\t\t\t\t\t매일이 전고점이긴 합니다만...\n",
       " \t\t\t\t\t\t</span>,\n",
       " <span class=\"subject_fixed\" data-role=\"list-title-text\" title=\"월별 소비자물가 등락률.JPG\">\n",
       " \t\t\t\t\t\t\t월별 소비자물가 등락률.JPG\n",
       " \t\t\t\t\t\t</span>,\n",
       " <span class=\"subject_fixed\" data-role=\"list-title-text\" title=\"파니까 날아가긴 하네요\">\n",
       " \t\t\t\t\t\t\t파니까 날아가긴 하네요\n",
       " \t\t\t\t\t\t</span>,\n",
       " <span class=\"subject_fixed\" data-role=\"list-title-text\" title=\"\" 개미=\"\" 돈=\"\" 번=\"\" 사람=\"\" 수익률은=\"\" 없다\"…주가=\"\" 역주행\"=\"\" 주변에=\"\" 치솟는데=\"\">\n",
       " \t\t\t\t\t\t\t\"주변에 돈 번 사람 없다\"…주가 치솟는데 개미 수익률은 역주행\n",
       " \t\t\t\t\t\t</span>,\n",
       " <span class=\"subject_fixed\" data-role=\"list-title-text\" title=\"미장이 좋네요. 언제까지 갈까요\">\n",
       " \t\t\t\t\t\t\t미장이 좋네요. 언제까지 갈까요\n",
       " \t\t\t\t\t\t</span>,\n",
       " <span class=\"subject_fixed\" data-role=\"list-title-text\" title=\"혹시 1분봉에서 이런 빔은 무슨뜻인가요??\">\n",
       " \t\t\t\t\t\t\t혹시 1분봉에서 이런 빔은 무슨뜻인가요??\n",
       " \t\t\t\t\t\t</span>,\n",
       " <span class=\"subject_fixed\" data-role=\"list-title-text\" title=\"유니티를 보는 심정\">\n",
       " \t\t\t\t\t\t\t유니티를 보는 심정\n",
       " \t\t\t\t\t\t</span>,\n",
       " <span class=\"subject_fixed\" data-role=\"list-title-text\" title=\"중국주식 하시는 분 계신가요?\">\n",
       " \t\t\t\t\t\t\t중국주식 하시는 분 계신가요?\n",
       " \t\t\t\t\t\t</span>,\n",
       " <span class=\"subject_fixed\" data-role=\"list-title-text\" title=\"오늘 사야지 하고 못산것.. 다 팔걸 반만 판것..\">\n",
       " \t\t\t\t\t\t\t오늘 사야지 하고 못산것.. 다 팔걸 반만 판것..\n",
       " \t\t\t\t\t\t</span>,\n",
       " <span class=\"subject_fixed\" data-role=\"list-title-text\" title=\"2달째 운용 중인 ISA 계좌입니다.\">\n",
       " \t\t\t\t\t\t\t2달째 운용 중인 ISA 계좌입니다.\n",
       " \t\t\t\t\t\t</span>,\n",
       " <span class=\"subject_fixed\" data-role=\"list-title-text\" title=\"장기투자의 힘\">\n",
       " \t\t\t\t\t\t\t장기투자의 힘\n",
       " \t\t\t\t\t\t</span>,\n",
       " <span class=\"subject_fixed\" data-role=\"list-title-text\" title=\"오늘도 테슬라는 …\">\n",
       " \t\t\t\t\t\t\t오늘도 테슬라는 …\n",
       " \t\t\t\t\t\t</span>,\n",
       " <span class=\"subject_fixed\" data-role=\"list-title-text\" title=\"공매도 '사냥감' 된 카카오, 1215억 '폭탄'…주가 7%대 급락\">\n",
       " \t\t\t\t\t\t\t공매도 '사냥감' 된 카카오, 1215억 '폭탄'…주가 7%대 급락\n",
       " \t\t\t\t\t\t</span>,\n",
       " <span class=\"subject_fixed\" data-role=\"list-title-text\" title=\"운이 아니고 실력이면 좋겠어요!\">\n",
       " \t\t\t\t\t\t\t운이 아니고 실력이면 좋겠어요!\n",
       " \t\t\t\t\t\t</span>]"
      ]
     },
     "execution_count": 54,
     "metadata": {},
     "output_type": "execute_result"
    }
   ],
   "source": [
    "list_t1 = soup.findAll('div', class_='list_title')\n",
    "list_t2 = soup.findAll('span', class_='subject_fixed')\n",
    "#.findAll('span', class_='subject_fixed')\n",
    "list_t2"
   ]
  },
  {
   "cell_type": "code",
   "execution_count": null,
   "metadata": {},
   "outputs": [],
   "source": [
    "from urllib.request import urlopen\n",
    "from bs4 import BeautifulSoup\n",
    "import time\n",
    "url = 'https://movie.naver.com/movie/point/af/list.nhn?st=mcode&sword=171725&target=after&page='\n",
    "comments = []\n",
    "for i in range(1, 6):\n",
    "    total_url = url + str(i)\n",
    "    page = urlopen(total_url)\n",
    "    soup = BeautifulSoup(page, 'html.parser')\n",
    "    sentence = soup.findAll('td', class_='title')\n",
    "    print('<', i, '번째 페이지', '>')\n",
    "    for idx, k in enumerate(sentence):\n",
    "        comment = k.text.split('\\n')[5]\n",
    "        print(idx+1, comment)\n",
    "        comments.append(comment)\n",
    "    print()\n",
    "    time.sleep(2)"
   ]
  }
 ],
 "metadata": {
  "kernelspec": {
   "display_name": "Python 3",
   "language": "python",
   "name": "python3"
  },
  "language_info": {
   "codemirror_mode": {
    "name": "ipython",
    "version": 3
   },
   "file_extension": ".py",
   "mimetype": "text/x-python",
   "name": "python",
   "nbconvert_exporter": "python",
   "pygments_lexer": "ipython3",
   "version": "3.8.5"
  }
 },
 "nbformat": 4,
 "nbformat_minor": 4
}
