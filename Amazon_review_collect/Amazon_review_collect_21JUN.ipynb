{
 "cells": [
  {
   "cell_type": "code",
   "execution_count": 1,
   "metadata": {},
   "outputs": [],
   "source": [
    "import os, warnings\n",
    "import re\n",
    "from selenium import webdriver\n",
    "from bs4 import BeautifulSoup\n",
    "import pandas as pd\n",
    "import time"
   ]
  },
  {
   "cell_type": "code",
   "execution_count": 2,
   "metadata": {},
   "outputs": [],
   "source": [
    "warnings.filterwarnings(action='ignore')"
   ]
  },
  {
   "cell_type": "code",
   "execution_count": 3,
   "metadata": {},
   "outputs": [],
   "source": [
    "driver = webdriver.Chrome('chromedriver_90')\n",
    "url = 'https://www.amazon.com/'\n",
    "driver.get(url)"
   ]
  },
  {
   "cell_type": "code",
   "execution_count": 4,
   "metadata": {},
   "outputs": [],
   "source": [
    "sel_search = driver.find_element_by_xpath('//*[@id=\"twotabsearchtextbox\"]')\n",
    "sel_btn = driver.find_element_by_xpath('//*[@id=\"nav-search-submit-button\"]')"
   ]
  },
  {
   "cell_type": "code",
   "execution_count": 5,
   "metadata": {},
   "outputs": [],
   "source": [
    "sel_search.clear()\n",
    "sel_search.send_keys(\"bose soundlink\")\n",
    "sel_btn.click()"
   ]
  },
  {
   "cell_type": "code",
   "execution_count": 6,
   "metadata": {},
   "outputs": [],
   "source": [
    "open_1 = driver.find_element_by_xpath('//*[@id=\"search\"]/div[1]/div/div[1]/div/span[3]/div[2]/div[1]/div/span/div/div/div[2]/div[2]/div/div[1]/h2/a/span')\n",
    "open_1.click()"
   ]
  },
  {
   "cell_type": "code",
   "execution_count": 7,
   "metadata": {},
   "outputs": [],
   "source": [
    "open_rev = driver.find_element_by_xpath('//*[@id=\"acrCustomerReviewText\"]')\n",
    "open_rev.click()"
   ]
  },
  {
   "cell_type": "code",
   "execution_count": 8,
   "metadata": {},
   "outputs": [],
   "source": [
    "open_see_all = driver.find_element_by_xpath('//*[@id=\"cr-pagination-footer-0\"]/a')\n",
    "open_see_all.click()"
   ]
  },
  {
   "cell_type": "code",
   "execution_count": 9,
   "metadata": {},
   "outputs": [],
   "source": [
    "page = driver.page_source\n",
    "soup = BeautifulSoup(page, 'lxml')"
   ]
  },
  {
   "cell_type": "code",
   "execution_count": 10,
   "metadata": {},
   "outputs": [],
   "source": [
    "all_names = []\n",
    "all_stars = []\n",
    "# all_rev_titles = []\n",
    "all_dates = []\n",
    "all_colors = []\n",
    "all_reviews = []\n",
    "\n",
    "all_comments = soup.findAll(\"div\", class_='a-section celwidget')\n",
    "\n",
    "for page in range(10):\n",
    "    next_page = driver.find_element_by_xpath('//*[@id=\"cm_cr-pagination_bar\"]/ul/li[2]/a')\n",
    "    \n",
    "    for one in all_comments:\n",
    "        one_name = one.find(\"span\", class_=\"a-profile-name\").text\n",
    "        all_names.append(one_name)\n",
    "#       print(all_names)\n",
    "        \n",
    "        one_star = one.find(\"span\", class_=\"a-icon-alt\").text\n",
    "        all_stars.append(one_star)\n",
    "#       print(all_stars)  \n",
    "\n",
    "        one_date = one.find(\"span\", class_=\"a-size-base a-color-secondary review-date\").text\n",
    "        all_dates.append(one_date)\n",
    "#       print(all_date)\n",
    "        \n",
    "        one_color = one.find(\"a\", class_=\"a-size-mini a-link-normal a-color-secondary\").text\n",
    "        all_colors.append(one_color.strip())\n",
    "#       print(all_colors)\n",
    "\n",
    "        one_review = one.find('span', class_='a-size-base review-text review-text-content')\n",
    "        all_reviews.append(one_review.text.strip())\n",
    "#       print(all_reviews)\n"
   ]
  },
  {
   "cell_type": "code",
   "execution_count": 11,
   "metadata": {
    "scrolled": true
   },
   "outputs": [
    {
     "data": {
      "text/html": [
       "<div>\n",
       "<style scoped>\n",
       "    .dataframe tbody tr th:only-of-type {\n",
       "        vertical-align: middle;\n",
       "    }\n",
       "\n",
       "    .dataframe tbody tr th {\n",
       "        vertical-align: top;\n",
       "    }\n",
       "\n",
       "    .dataframe thead th {\n",
       "        text-align: right;\n",
       "    }\n",
       "</style>\n",
       "<table border=\"1\" class=\"dataframe\">\n",
       "  <thead>\n",
       "    <tr style=\"text-align: right;\">\n",
       "      <th></th>\n",
       "      <th>Names :</th>\n",
       "      <th>Stars :</th>\n",
       "      <th>Date :</th>\n",
       "      <th>Color :</th>\n",
       "      <th>Comments :</th>\n",
       "    </tr>\n",
       "  </thead>\n",
       "  <tbody>\n",
       "    <tr>\n",
       "      <th>0</th>\n",
       "      <td>Amazon Customer</td>\n",
       "      <td>3.0 out of 5 stars</td>\n",
       "      <td>Reviewed in the United States on June 25, 2017</td>\n",
       "      <td>Color: Soft black</td>\n",
       "      <td>I purchased the speaker in March 2017, and her...</td>\n",
       "    </tr>\n",
       "    <tr>\n",
       "      <th>1</th>\n",
       "      <td>Toads n Frogs</td>\n",
       "      <td>2.0 out of 5 stars</td>\n",
       "      <td>Reviewed in the United States on December 26, ...</td>\n",
       "      <td>Color: Soft black</td>\n",
       "      <td>I was surprised in every way upon the Sound Li...</td>\n",
       "    </tr>\n",
       "    <tr>\n",
       "      <th>2</th>\n",
       "      <td>Gloria nuñez</td>\n",
       "      <td>1.0 out of 5 stars</td>\n",
       "      <td>Reviewed in the United States on May 2, 2018</td>\n",
       "      <td>Color: Soft black</td>\n",
       "      <td>I always wanted to have a bose speaker. I fina...</td>\n",
       "    </tr>\n",
       "    <tr>\n",
       "      <th>3</th>\n",
       "      <td>Jeff</td>\n",
       "      <td>4.0 out of 5 stars</td>\n",
       "      <td>Reviewed in the United States on January 19, 2017</td>\n",
       "      <td>Color: Soft black</td>\n",
       "      <td>I bought this to pair with an Echo Dot.  Setup...</td>\n",
       "    </tr>\n",
       "    <tr>\n",
       "      <th>4</th>\n",
       "      <td>cdale52</td>\n",
       "      <td>1.0 out of 5 stars</td>\n",
       "      <td>Reviewed in the United States on March 26, 2018</td>\n",
       "      <td>Color: Soft black</td>\n",
       "      <td>Don’t buy this!  I bought this in mid-January ...</td>\n",
       "    </tr>\n",
       "    <tr>\n",
       "      <th>...</th>\n",
       "      <td>...</td>\n",
       "      <td>...</td>\n",
       "      <td>...</td>\n",
       "      <td>...</td>\n",
       "      <td>...</td>\n",
       "    </tr>\n",
       "    <tr>\n",
       "      <th>95</th>\n",
       "      <td>TimetheAvenger</td>\n",
       "      <td>1.0 out of 5 stars</td>\n",
       "      <td>Reviewed in the United States on July 18, 2017</td>\n",
       "      <td>Color: Soft black</td>\n",
       "      <td>I like this speaker. I bought it to replace th...</td>\n",
       "    </tr>\n",
       "    <tr>\n",
       "      <th>96</th>\n",
       "      <td>pdevi</td>\n",
       "      <td>5.0 out of 5 stars</td>\n",
       "      <td>Reviewed in the United States on July 17, 2020</td>\n",
       "      <td>Color: Aqua Blue</td>\n",
       "      <td>Ok, even though I had read the product reviews...</td>\n",
       "    </tr>\n",
       "    <tr>\n",
       "      <th>97</th>\n",
       "      <td>Amazon Customer</td>\n",
       "      <td>4.0 out of 5 stars</td>\n",
       "      <td>Reviewed in the United States on January 12, 2017</td>\n",
       "      <td>Color: Polar white</td>\n",
       "      <td>As with all Bose audio equipment, the sound qu...</td>\n",
       "    </tr>\n",
       "    <tr>\n",
       "      <th>98</th>\n",
       "      <td>Chariel</td>\n",
       "      <td>5.0 out of 5 stars</td>\n",
       "      <td>Reviewed in the United States on October 8, 2018</td>\n",
       "      <td>Color: Soft black</td>\n",
       "      <td>Lets just hypothetically say that I bought thi...</td>\n",
       "    </tr>\n",
       "    <tr>\n",
       "      <th>99</th>\n",
       "      <td>Amazon Customer</td>\n",
       "      <td>1.0 out of 5 stars</td>\n",
       "      <td>Reviewed in the United States on February 21, ...</td>\n",
       "      <td>Color: Soft black</td>\n",
       "      <td>Bought it once. Returned it because it stopped...</td>\n",
       "    </tr>\n",
       "  </tbody>\n",
       "</table>\n",
       "<p>100 rows × 5 columns</p>\n",
       "</div>"
      ],
      "text/plain": [
       "           Names :             Stars :   \\\n",
       "0   Amazon Customer  3.0 out of 5 stars   \n",
       "1     Toads n Frogs  2.0 out of 5 stars   \n",
       "2      Gloria nuñez  1.0 out of 5 stars   \n",
       "3              Jeff  4.0 out of 5 stars   \n",
       "4           cdale52  1.0 out of 5 stars   \n",
       "..              ...                 ...   \n",
       "95   TimetheAvenger  1.0 out of 5 stars   \n",
       "96            pdevi  5.0 out of 5 stars   \n",
       "97  Amazon Customer  4.0 out of 5 stars   \n",
       "98          Chariel  5.0 out of 5 stars   \n",
       "99  Amazon Customer  1.0 out of 5 stars   \n",
       "\n",
       "                                              Date :             Color :   \\\n",
       "0      Reviewed in the United States on June 25, 2017   Color: Soft black   \n",
       "1   Reviewed in the United States on December 26, ...   Color: Soft black   \n",
       "2        Reviewed in the United States on May 2, 2018   Color: Soft black   \n",
       "3   Reviewed in the United States on January 19, 2017   Color: Soft black   \n",
       "4     Reviewed in the United States on March 26, 2018   Color: Soft black   \n",
       "..                                                ...                 ...   \n",
       "95     Reviewed in the United States on July 18, 2017   Color: Soft black   \n",
       "96     Reviewed in the United States on July 17, 2020    Color: Aqua Blue   \n",
       "97  Reviewed in the United States on January 12, 2017  Color: Polar white   \n",
       "98   Reviewed in the United States on October 8, 2018   Color: Soft black   \n",
       "99  Reviewed in the United States on February 21, ...   Color: Soft black   \n",
       "\n",
       "                                          Comments :   \n",
       "0   I purchased the speaker in March 2017, and her...  \n",
       "1   I was surprised in every way upon the Sound Li...  \n",
       "2   I always wanted to have a bose speaker. I fina...  \n",
       "3   I bought this to pair with an Echo Dot.  Setup...  \n",
       "4   Don’t buy this!  I bought this in mid-January ...  \n",
       "..                                                ...  \n",
       "95  I like this speaker. I bought it to replace th...  \n",
       "96  Ok, even though I had read the product reviews...  \n",
       "97  As with all Bose audio equipment, the sound qu...  \n",
       "98  Lets just hypothetically say that I bought thi...  \n",
       "99  Bought it once. Returned it because it stopped...  \n",
       "\n",
       "[100 rows x 5 columns]"
      ]
     },
     "execution_count": 11,
     "metadata": {},
     "output_type": "execute_result"
    }
   ],
   "source": [
    "total_review = {'Names : ':all_names, 'Stars : ': all_stars, 'Date : ':all_dates, \n",
    "                'Color : ': all_colors, 'Comments : ':all_reviews}\n",
    "total_review = pd.DataFrame(total_review)\n",
    "total_review"
   ]
  },
  {
   "cell_type": "code",
   "execution_count": 12,
   "metadata": {
    "collapsed": true
   },
   "outputs": [
    {
     "name": "stdout",
     "output_type": "stream",
     "text": [
      "C:\\Users\\zeoni\\OneDrive\\문서\\GitHub\\LikeLion_Training_Rec\\Amazon_review_collect\n",
      "['.ipynb_checkpoints', 'Amazon_review_collect', 'Amazon_review_collect_21JUN.ipynb', 'Amazon_review_collect_21JUN_practice.ipynb', 'chromedriver_90.exe']\n"
     ]
    }
   ],
   "source": [
    "total_review.to_csv(\"Amazon_review_collect\", index=False)\n",
    "\n",
    "print(os.getcwd())\n",
    "print(os.listdir(os.getcwd()))"
   ]
  }
 ],
 "metadata": {
  "kernelspec": {
   "display_name": "Python 3",
   "language": "python",
   "name": "python3"
  },
  "language_info": {
   "codemirror_mode": {
    "name": "ipython",
    "version": 3
   },
   "file_extension": ".py",
   "mimetype": "text/x-python",
   "name": "python",
   "nbconvert_exporter": "python",
   "pygments_lexer": "ipython3",
   "version": "3.8.5"
  }
 },
 "nbformat": 4,
 "nbformat_minor": 4
}
