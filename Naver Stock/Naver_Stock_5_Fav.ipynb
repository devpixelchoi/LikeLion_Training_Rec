{
 "cells": [
  {
   "cell_type": "code",
   "execution_count": 1,
   "metadata": {},
   "outputs": [],
   "source": [
    "from urllib.request import urlopen\n",
    "from bs4 import BeautifulSoup"
   ]
  },
  {
   "cell_type": "code",
   "execution_count": 24,
   "metadata": {},
   "outputs": [
    {
     "name": "stdout",
     "output_type": "stream",
     "text": [
      "<dd>2021년 06월 28일 16시 11분 기준 장마감</dd> <dd>종목명 제주항공</dd> <dd>종목코드 089590 코스피</dd> <dd>현재가 25,650 전일대비 상승 100 플러스 0.39 퍼센트</dd>\n",
      "<dd>2021년 06월 28일 16시 11분 기준 장마감</dd> <dd>종목명 티웨이항공</dd> <dd>종목코드 091810 코스피</dd> <dd>현재가 4,065 전일대비 보합 0  0.00 퍼센트</dd>\n",
      "<dd>2021년 06월 28일 16시 10분 기준 장마감</dd> <dd>종목명 대한항공</dd> <dd>종목코드 003490 코스피</dd> <dd>현재가 31,450 전일대비 하락 500 마이너스 1.56 퍼센트</dd>\n",
      "<dd>2021년 06월 28일 16시 11분 기준 장마감</dd> <dd>종목명 진에어</dd> <dd>종목코드 272450 코스피</dd> <dd>현재가 21,350 전일대비 상승 300 플러스 1.43 퍼센트</dd>\n",
      "<dd>2021년 06월 28일 16시 10분 기준 장마감</dd> <dd>종목명 한진칼</dd> <dd>종목코드 180640 코스피</dd> <dd>현재가 66,000 전일대비 하락 1,900 마이너스 2.80 퍼센트</dd>\n"
     ]
    }
   ],
   "source": [
    "stock_title = ['제주항공', '티웨이항공', '대한항공', '진에어', '한진칼']\n",
    "stock_code = ['089590', '091810', '003490', '272450', '180640']\n",
    "stock_list = []\n",
    "\n",
    "url = 'https://finance.naver.com/item/main.nhn?code='\n",
    "\n",
    "for idx, code in enumerate(stock_code):\n",
    "    all_url = url + code\n",
    "#     print(all_url)\n",
    "    page = urlopen(all_url)\n",
    "#     print(page)\n",
    "    soup = BeautifulSoup(page, 'html.parser')\n",
    "#     print(soup.title)\n",
    "    \n",
    "    c_price = soup.find('p', class_='no_today').span.text\n",
    "#     print(c_price)\n",
    "    #rate = soup.find('div', class_='rate_info').find_all('dd')\n",
    "    #print(rate)\n",
    "    am = soup.find('div', id=\"middle\", class_=\"new_totalinfo\").find_all(\"dd\")\n",
    "    print(am[0],am[1],am[2],am[3])"
   ]
  },
  {
   "cell_type": "code",
   "execution_count": null,
   "metadata": {},
   "outputs": [],
   "source": []
  }
 ],
 "metadata": {
  "kernelspec": {
   "display_name": "Python 3",
   "language": "python",
   "name": "python3"
  },
  "language_info": {
   "codemirror_mode": {
    "name": "ipython",
    "version": 3
   },
   "file_extension": ".py",
   "mimetype": "text/x-python",
   "name": "python",
   "nbconvert_exporter": "python",
   "pygments_lexer": "ipython3",
   "version": "3.8.5"
  }
 },
 "nbformat": 4,
 "nbformat_minor": 4
}
