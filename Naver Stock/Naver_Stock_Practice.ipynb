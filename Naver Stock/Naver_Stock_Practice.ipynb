{
 "cells": [
  {
   "cell_type": "markdown",
   "metadata": {},
   "source": [
    "### Naver Stock Crauwling"
   ]
  },
  {
   "cell_type": "code",
   "execution_count": 2,
   "metadata": {},
   "outputs": [],
   "source": [
    "from urllib.request import urlopen\n",
    "from bs4 import BeautifulSoup"
   ]
  },
  {
   "cell_type": "code",
   "execution_count": 28,
   "metadata": {},
   "outputs": [
    {
     "data": {
      "text/plain": [
       "<title>국내증시 : 네이버 금융</title>"
      ]
     },
     "execution_count": 28,
     "metadata": {},
     "output_type": "execute_result"
    }
   ],
   "source": [
    "url = 'https://finance.naver.com/sise/'\n",
    "page = urlopen(url)\n",
    "soup = BeautifulSoup(page, 'html.parser')\n",
    "type(soup)\n",
    "soup.title"
   ]
  },
  {
   "cell_type": "markdown",
   "metadata": {},
   "source": [
    "### KOSPI, KOSDAQ, KOSPI200 현재지수"
   ]
  },
  {
   "cell_type": "code",
   "execution_count": 30,
   "metadata": {},
   "outputs": [
    {
     "name": "stdout",
     "output_type": "stream",
     "text": [
      "Current KOSPI Index is :  3,302.84\n",
      "Current KOSDAQ Index is :  1,012.13\n",
      "Current KOSPI 200 Index is :  440.40\n"
     ]
    }
   ],
   "source": [
    "kospi = soup.find('span', id=\"KOSPI_now\").text\n",
    "kosdaq = soup.find('span', id=\"KOSDAQ_now\").text\n",
    "kpi200 = soup.find('span', id=\"KPI200_now\").text\n",
    "\n",
    "\n",
    "\n",
    "print(\"Current KOSPI Index is : \", kospi)\n",
    "print(\"Current KOSDAQ Index is : \", kosdaq)\n",
    "print(\"Current KOSPI 200 Index is : \", kpi200)"
   ]
  },
  {
   "cell_type": "markdown",
   "metadata": {},
   "source": [
    "### 프로그램 매매동향"
   ]
  },
  {
   "cell_type": "code",
   "execution_count": 59,
   "metadata": {},
   "outputs": [
    {
     "name": "stdout",
     "output_type": "stream",
     "text": [
      "\n",
      "프로그램 매매동향\n",
      "\n",
      "차익\n",
      "+250억\n",
      "\n",
      "\n",
      "비차익\n",
      "+2,057억\n",
      "\n",
      "\n",
      "전체\n",
      "+2,308억\n",
      "\n",
      "\n"
     ]
    }
   ],
   "source": [
    "trend_kospi = soup.find(\"dl\", id=\"basis_trend\").text\n",
    "# trend_kosdaq = soup.find(\"dl\", class_=\"trend\").text\n",
    "\n",
    "print(trend_kospi)\n",
    "# print(trend_kosdaq)\n"
   ]
  },
  {
   "cell_type": "markdown",
   "metadata": {},
   "source": [
    "### 인기종목 검색 종목"
   ]
  },
  {
   "cell_type": "code",
   "execution_count": 58,
   "metadata": {},
   "outputs": [
    {
     "name": "stdout",
     "output_type": "stream",
     "text": [
      "1삼성전자\n",
      "2카카오\n",
      "3셀트리온\n",
      "4HMM\n",
      "5한국조선해양\n",
      "6팬오션\n",
      "7신풍제약\n",
      "8현대차\n",
      "9NAVER\n",
      "0삼성엔지니어링\n"
     ]
    }
   ],
   "source": [
    "pop_list = soup.find(\"ul\", id=\"popularItemList\").text\n",
    "# print(pop_list)\n",
    "\n",
    "pop_list_title = soup.find('ul', class_=\"lst_pop\", id=\"popularItemList\")\n",
    "# print(pop_list_title)\n",
    "\n",
    "com_title = pop_list_title.findAll('a')\n",
    "# print(com_title)\n",
    "\n",
    "# com_title = ul.find_all('a')\n",
    "# print(pop_list_title)\n",
    "\n",
    "for one in com_title:\n",
    "    print(one.get(\"onclick\")[-9]+one.text)\n"
   ]
  },
  {
   "cell_type": "code",
   "execution_count": 74,
   "metadata": {
    "scrolled": false
   },
   "outputs": [
    {
     "name": "stdout",
     "output_type": "stream",
     "text": [
      "차익은 +250억입니다.\n",
      "비차익은 +2,057억입니다.\n",
      "전체는 +2,308억입니다.\n"
     ]
    }
   ],
   "source": [
    "### 코스피 200지수\n",
    "soup_p = soup.find('div', id='tab_sel3_risefall').find('dd', class_='profit').text\n",
    "list_soup = [i for i in soup_p.split('\\n') if i]\n",
    "\n",
    "print(list_soup[0]+'은', list_soup[1]+'입니다.')\n",
    "\n",
    "soup_p = soup.find('div', id='tab_sel3_risefall').find('dd', class_='loss').text\n",
    "list_soup = [i for i in soup_p.split('\\n') if i]\n",
    "\n",
    "print(list_soup[0]+'은', list_soup[1]+'입니다.')\n",
    "\n",
    "soup_p = soup.find('div', id='tab_sel3_risefall').find('dd', class_='total').text\n",
    "list_soup = [i for i in soup_p.split('\\n') if i]\n",
    "\n",
    "print(list_soup[0]+'는', list_soup[1]+'입니다.')"
   ]
  },
  {
   "cell_type": "code",
   "execution_count": 75,
   "metadata": {},
   "outputs": [
    {
     "name": "stdout",
     "output_type": "stream",
     "text": [
      "\n",
      "차익\n",
      "+250억\n",
      "\n",
      "비차익\n",
      "+2,057억\n",
      "\n",
      "전체\n",
      "+2,308억\n",
      "\n",
      "\n",
      "차익\n",
      "-8억\n",
      "\n",
      "비차익\n",
      "+42억\n",
      "\n",
      "전체\n",
      "+34억\n",
      "\n",
      "\n",
      "차익\n",
      "+250억\n",
      "\n",
      "비차익\n",
      "+2,057억\n",
      "\n",
      "전체\n",
      "+2,308억\n",
      "\n"
     ]
    }
   ],
   "source": [
    "soup_p1 = soup.find('div', id='tab_sel1_risefall').find('dd', class_=\"profit\").text\n",
    "soup_l1 = soup.find('div', id='tab_sel1_risefall').find('dd', class_=\"loss\").text\n",
    "soup_t1 = soup.find('div', id='tab_sel1_risefall').find('dd', class_=\"total\").text\n",
    "\n",
    "print(soup_p1 + soup_l1 + soup_t1)\n",
    "\n",
    "soup_p2 = soup.find('div', id='tab_sel2_risefall').find('dd', class_=\"profit\").text\n",
    "soup_l2 = soup.find('div', id='tab_sel2_risefall').find('dd', class_=\"loss\").text\n",
    "soup_t2 = soup.find('div', id='tab_sel2_risefall').find('dd', class_=\"total\").text\n",
    "\n",
    "print(soup_p2 + soup_l2 + soup_t2)\n",
    "\n",
    "\n",
    "soup_p3 = soup.find('div', id='tab_sel3_risefall').find('dd', class_=\"profit\").text\n",
    "soup_l3 = soup.find('div', id='tab_sel3_risefall').find('dd', class_=\"loss\").text\n",
    "soup_t3 = soup.find('div', id='tab_sel3_risefall').find('dd', class_=\"total\").text\n",
    "\n",
    "print(soup_p3 + soup_l3 + soup_t3)"
   ]
  }
 ],
 "metadata": {
  "kernelspec": {
   "display_name": "Python 3",
   "language": "python",
   "name": "python3"
  },
  "language_info": {
   "codemirror_mode": {
    "name": "ipython",
    "version": 3
   },
   "file_extension": ".py",
   "mimetype": "text/x-python",
   "name": "python",
   "nbconvert_exporter": "python",
   "pygments_lexer": "ipython3",
   "version": "3.8.5"
  }
 },
 "nbformat": 4,
 "nbformat_minor": 4
}
