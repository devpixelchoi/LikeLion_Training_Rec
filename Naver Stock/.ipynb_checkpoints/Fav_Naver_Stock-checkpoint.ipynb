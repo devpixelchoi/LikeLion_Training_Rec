{
 "cells": [
  {
   "cell_type": "code",
   "execution_count": 1,
   "metadata": {},
   "outputs": [],
   "source": [
    "from urllib.request import urlopen\n",
    "from bs4 import BeautifulSoup"
   ]
  },
  {
   "cell_type": "code",
   "execution_count": 6,
   "metadata": {},
   "outputs": [
    {
     "name": "stdout",
     "output_type": "stream",
     "text": [
      "종목명 제주항공 \n",
      " 현재가 25,650 전일대비 상승 100 플러스 0.39 퍼센트 \n",
      " 전일가 25,550 \n",
      " 시가 25,100 \n",
      " 고가 25,700 \n",
      " 상한가 33,200 \n",
      " 저가 24,500 \n",
      " 하한가 17,900 \n",
      " 거래량 141,463 \n",
      " 100 포인트 상승 \n",
      " 0.39% 플러스 \n",
      "\n",
      "종목명 티웨이항공 \n",
      " 현재가 4,065 전일대비 보합 0  0.00 퍼센트 \n",
      " 전일가 4,065 \n",
      " 시가 4,015 \n",
      " 고가 4,125 \n",
      " 상한가 5,280 \n",
      " 저가 3,845 \n",
      " 하한가 2,850 \n",
      " 거래량 1,244,396 \n",
      " 0 포인트 보합 \n",
      " 0.00%  \n",
      "\n",
      "종목명 대한항공 \n",
      " 현재가 31,450 전일대비 하락 500 마이너스 1.56 퍼센트 \n",
      " 전일가 31,950 \n",
      " 시가 31,400 \n",
      " 고가 31,600 \n",
      " 상한가 41,500 \n",
      " 저가 31,050 \n",
      " 하한가 22,400 \n",
      " 거래량 2,131,437 \n",
      " 500 포인트 하락 \n",
      " 1.56% 마이너스 \n",
      "\n",
      "종목명 진에어 \n",
      " 현재가 21,350 전일대비 상승 300 플러스 1.43 퍼센트 \n",
      " 전일가 21,050 \n",
      " 시가 20,700 \n",
      " 고가 21,400 \n",
      " 상한가 27,350 \n",
      " 저가 20,400 \n",
      " 하한가 14,750 \n",
      " 거래량 172,686 \n",
      " 300 포인트 상승 \n",
      " 1.43% 플러스 \n",
      "\n",
      "종목명 한진칼 \n",
      " 현재가 66,000 전일대비 하락 1,900 마이너스 2.80 퍼센트 \n",
      " 전일가 67,900 \n",
      " 시가 67,700 \n",
      " 고가 67,700 \n",
      " 상한가 88,200 \n",
      " 저가 65,600 \n",
      " 하한가 47,600 \n",
      " 거래량 150,543 \n",
      " 1,900 포인트 하락 \n",
      " 2.80% 마이너스 \n",
      "\n"
     ]
    }
   ],
   "source": [
    "stock_title = ['제주항공', '티웨이항공', '대한항공', '진에어', '한진칼']\n",
    "stock_code = ['089590', '091810', '003490', '272450', '180640']\n",
    "stock_list = []\n",
    "\n",
    "url = 'https://finance.naver.com/item/main.nhn?code='\n",
    "\n",
    "for idx, code in enumerate(stock_code):\n",
    "    all_url = url + code   \n",
    "    page = urlopen(all_url)\n",
    "    soup = BeautifulSoup(page, 'html.parser')\n",
    "    c_price = soup.find('p', class_='no_today').span.text\n",
    "    add_info = soup.find('div', id=\"middle\", class_=\"new_totalinfo\").findAll(\"dd\")\n",
    "    \n",
    "#     stock_list = (add_info[1].text,'\\n',add_info[3].text,'\\n',add_info[4].text,'\\n',\n",
    "#          add_info[5].text,'\\n',add_info[6].text,'\\n',add_info[7].text,'\\n',\n",
    "#          add_info[8].text,'\\n',add_info[9].text,'\\n',add_info[10].text,'\\n') \n",
    "    print(add_info[1].text,'\\n',add_info[3].text,'\\n',add_info[4].text,'\\n',\n",
    "         add_info[5].text,'\\n',add_info[6].text,'\\n',add_info[7].text,'\\n',\n",
    "         add_info[8].text,'\\n',add_info[9].text,'\\n',add_info[10].text,'\\n',\n",
    "         add_info[13].text,'\\n',add_info[14].text,'\\n')"
   ]
  },
  {
   "cell_type": "code",
   "execution_count": null,
   "metadata": {},
   "outputs": [],
   "source": []
  }
 ],
 "metadata": {
  "kernelspec": {
   "display_name": "Python 3",
   "language": "python",
   "name": "python3"
  },
  "language_info": {
   "codemirror_mode": {
    "name": "ipython",
    "version": 3
   },
   "file_extension": ".py",
   "mimetype": "text/x-python",
   "name": "python",
   "nbconvert_exporter": "python",
   "pygments_lexer": "ipython3",
   "version": "3.8.5"
  }
 },
 "nbformat": 4,
 "nbformat_minor": 4
}
